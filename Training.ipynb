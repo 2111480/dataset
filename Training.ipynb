{
  "nbformat": 4,
  "nbformat_minor": 0,
  "metadata": {
    "colab": {
      "name": "Training.ipynb",
      "provenance": [],
      "collapsed_sections": [],
      "include_colab_link": true
    },
    "kernelspec": {
      "name": "python3",
      "display_name": "Python 3"
    },
    "accelerator": "GPU"
  },
  "cells": [
    {
      "cell_type": "markdown",
      "metadata": {
        "id": "view-in-github",
        "colab_type": "text"
      },
      "source": [
        "<a href=\"https://colab.research.google.com/github/2111480/dataset/blob/main/Training.ipynb\" target=\"_parent\"><img src=\"https://colab.research.google.com/assets/colab-badge.svg\" alt=\"Open In Colab\"/></a>"
      ]
    },
    {
      "cell_type": "code",
      "metadata": {
        "id": "GcZ6lGbOuA9a",
        "colab": {
          "base_uri": "https://localhost:8080/"
        },
        "outputId": "370dcdf2-d863-4104-bc65-aea7e21d8f37"
      },
      "source": [
        "from google.colab import drive\n",
        "drive.mount('/content/drive')"
      ],
      "execution_count": 1,
      "outputs": [
        {
          "output_type": "stream",
          "name": "stdout",
          "text": [
            "Mounted at /content/drive\n"
          ]
        }
      ]
    },
    {
      "cell_type": "code",
      "metadata": {
        "id": "VmVHfCqCW6LJ",
        "colab": {
          "base_uri": "https://localhost:8080/"
        },
        "outputId": "a9bacb82-07af-4074-94c4-7699c0779d63"
      },
      "source": [
        "# Some necessary commands before training.\n",
        "import os\n",
        "#os.chdir('/content/drive/My Drive/project/notebooks')\n",
        "os.chdir('/content/sample_data')\n",
        "!pip install unidecode\n",
        "!python -m nltk.downloader stopwords"
      ],
      "execution_count": 6,
      "outputs": [
        {
          "output_type": "stream",
          "name": "stdout",
          "text": [
            "Requirement already satisfied: unidecode in /usr/local/lib/python3.7/dist-packages (1.3.4)\n",
            "/usr/lib/python3.7/runpy.py:125: RuntimeWarning: 'nltk.downloader' found in sys.modules after import of package 'nltk', but prior to execution of 'nltk.downloader'; this may result in unpredictable behaviour\n",
            "  warn(RuntimeWarning(msg))\n",
            "[nltk_data] Downloading package stopwords to /root/nltk_data...\n",
            "[nltk_data]   Package stopwords is already up-to-date!\n"
          ]
        }
      ]
    },
    {
      "cell_type": "code",
      "metadata": {
        "id": "OqxkvIgUEma5",
        "colab": {
          "base_uri": "https://localhost:8080/"
        },
        "outputId": "942e86fe-a497-467d-be2f-5e3fa63b60ba"
      },
      "source": [
        "!pwd"
      ],
      "execution_count": 4,
      "outputs": [
        {
          "output_type": "stream",
          "name": "stdout",
          "text": [
            "/content\n"
          ]
        }
      ]
    },
    {
      "cell_type": "markdown",
      "metadata": {
        "id": "aQO6c3W4NSVf"
      },
      "source": [
        "# Importing Classes"
      ]
    },
    {
      "cell_type": "code",
      "metadata": {
        "id": "tWBr0YkqDveJ"
      },
      "source": [
        "from DataPreprocessing import DataPreprocessing\n",
        "from Summarizer import Summarizer\n",
        "from Prediction import Prediction"
      ],
      "execution_count": 7,
      "outputs": []
    },
    {
      "cell_type": "markdown",
      "metadata": {
        "id": "qjHjqhruMkrt"
      },
      "source": [
        "# Data Preprocessing\n",
        "Before we begin we must get some data and then clean it and make it usable by our model. For that we will be using Datapreprocessing class. We will be using Amazon food reviews dataset."
      ]
    },
    {
      "cell_type": "code",
      "metadata": {
        "id": "-G84GGMrFM6S",
        "colab": {
          "base_uri": "https://localhost:8080/",
          "height": 467
        },
        "outputId": "0c014e5c-1ab1-4b80-d8eb-f0e1c2c8e458"
      },
      "source": [
        "processor = DataPreprocessing()\n",
        "# Read-in dataset\n",
        "#data = processor.load_dataset('Reviews',100000)\n",
        "data = processor.load_dataset('/content/Reviews',100000)\n",
        "print('Dataset Loaded.')\n",
        "\n",
        "# remove unnnecessary columns\n",
        "data = processor.remove_columns(data)\n",
        "print(\"Unnecessary columns removed.\")\n",
        "data.head(10)"
      ],
      "execution_count": 15,
      "outputs": [
        {
          "output_type": "stream",
          "name": "stdout",
          "text": [
            "Dataset Loaded.\n",
            "Unnecessary columns removed.\n"
          ]
        },
        {
          "output_type": "stream",
          "name": "stderr",
          "text": [
            "/usr/local/lib/python3.7/dist-packages/ipykernel_launcher.py:4: DtypeWarning: Columns (1,2,3,8,9) have mixed types.Specify dtype option on import or set low_memory=False.\n",
            "  after removing the cwd from sys.path.\n",
            "/content/DataPreprocessing.py:27: FutureWarning: In a future version of pandas all arguments of DataFrame.drop except for the argument 'labels' will be keyword-only\n",
            "  data = data.drop(['Id','ProductId','UserId','ProfileName', 'HelpfulnessNumerator','HelpfulnessDenominator', 'Score', 'Time'],1)\n"
          ]
        },
        {
          "output_type": "execute_result",
          "data": {
            "text/plain": [
              "                                         Summary  \\\n",
              "0                          Good Quality Dog Food   \n",
              "1                              Not as Advertised   \n",
              "2                          \"Delight\" says it all   \n",
              "3                                 Cough Medicine   \n",
              "4                                    Great taffy   \n",
              "5                                     Nice Taffy   \n",
              "6  Great!  Just as good as the expensive brands!   \n",
              "7                         Wonderful, tasty taffy   \n",
              "8                                     Yay Barley   \n",
              "9                               Healthy Dog Food   \n",
              "\n",
              "                                                Text  \n",
              "0  I have bought several of the Vitality canned d...  \n",
              "1  Product arrived labeled as Jumbo Salted Peanut...  \n",
              "2  This is a confection that has been around a fe...  \n",
              "3  If you are looking for the secret ingredient i...  \n",
              "4  Great taffy at a great price.  There was a wid...  \n",
              "5  I got a wild hair for taffy and ordered this f...  \n",
              "6  This saltwater taffy had great flavors and was...  \n",
              "7  This taffy is so good.  It is very soft and ch...  \n",
              "8  Right now I'm mostly just sprouting this so my...  \n",
              "9  This is a very healthy dog food. Good for thei...  "
            ],
            "text/html": [
              "\n",
              "  <div id=\"df-d0f20430-6f35-4445-8831-d2cda936ad12\">\n",
              "    <div class=\"colab-df-container\">\n",
              "      <div>\n",
              "<style scoped>\n",
              "    .dataframe tbody tr th:only-of-type {\n",
              "        vertical-align: middle;\n",
              "    }\n",
              "\n",
              "    .dataframe tbody tr th {\n",
              "        vertical-align: top;\n",
              "    }\n",
              "\n",
              "    .dataframe thead th {\n",
              "        text-align: right;\n",
              "    }\n",
              "</style>\n",
              "<table border=\"1\" class=\"dataframe\">\n",
              "  <thead>\n",
              "    <tr style=\"text-align: right;\">\n",
              "      <th></th>\n",
              "      <th>Summary</th>\n",
              "      <th>Text</th>\n",
              "    </tr>\n",
              "  </thead>\n",
              "  <tbody>\n",
              "    <tr>\n",
              "      <th>0</th>\n",
              "      <td>Good Quality Dog Food</td>\n",
              "      <td>I have bought several of the Vitality canned d...</td>\n",
              "    </tr>\n",
              "    <tr>\n",
              "      <th>1</th>\n",
              "      <td>Not as Advertised</td>\n",
              "      <td>Product arrived labeled as Jumbo Salted Peanut...</td>\n",
              "    </tr>\n",
              "    <tr>\n",
              "      <th>2</th>\n",
              "      <td>\"Delight\" says it all</td>\n",
              "      <td>This is a confection that has been around a fe...</td>\n",
              "    </tr>\n",
              "    <tr>\n",
              "      <th>3</th>\n",
              "      <td>Cough Medicine</td>\n",
              "      <td>If you are looking for the secret ingredient i...</td>\n",
              "    </tr>\n",
              "    <tr>\n",
              "      <th>4</th>\n",
              "      <td>Great taffy</td>\n",
              "      <td>Great taffy at a great price.  There was a wid...</td>\n",
              "    </tr>\n",
              "    <tr>\n",
              "      <th>5</th>\n",
              "      <td>Nice Taffy</td>\n",
              "      <td>I got a wild hair for taffy and ordered this f...</td>\n",
              "    </tr>\n",
              "    <tr>\n",
              "      <th>6</th>\n",
              "      <td>Great!  Just as good as the expensive brands!</td>\n",
              "      <td>This saltwater taffy had great flavors and was...</td>\n",
              "    </tr>\n",
              "    <tr>\n",
              "      <th>7</th>\n",
              "      <td>Wonderful, tasty taffy</td>\n",
              "      <td>This taffy is so good.  It is very soft and ch...</td>\n",
              "    </tr>\n",
              "    <tr>\n",
              "      <th>8</th>\n",
              "      <td>Yay Barley</td>\n",
              "      <td>Right now I'm mostly just sprouting this so my...</td>\n",
              "    </tr>\n",
              "    <tr>\n",
              "      <th>9</th>\n",
              "      <td>Healthy Dog Food</td>\n",
              "      <td>This is a very healthy dog food. Good for thei...</td>\n",
              "    </tr>\n",
              "  </tbody>\n",
              "</table>\n",
              "</div>\n",
              "      <button class=\"colab-df-convert\" onclick=\"convertToInteractive('df-d0f20430-6f35-4445-8831-d2cda936ad12')\"\n",
              "              title=\"Convert this dataframe to an interactive table.\"\n",
              "              style=\"display:none;\">\n",
              "        \n",
              "  <svg xmlns=\"http://www.w3.org/2000/svg\" height=\"24px\"viewBox=\"0 0 24 24\"\n",
              "       width=\"24px\">\n",
              "    <path d=\"M0 0h24v24H0V0z\" fill=\"none\"/>\n",
              "    <path d=\"M18.56 5.44l.94 2.06.94-2.06 2.06-.94-2.06-.94-.94-2.06-.94 2.06-2.06.94zm-11 1L8.5 8.5l.94-2.06 2.06-.94-2.06-.94L8.5 2.5l-.94 2.06-2.06.94zm10 10l.94 2.06.94-2.06 2.06-.94-2.06-.94-.94-2.06-.94 2.06-2.06.94z\"/><path d=\"M17.41 7.96l-1.37-1.37c-.4-.4-.92-.59-1.43-.59-.52 0-1.04.2-1.43.59L10.3 9.45l-7.72 7.72c-.78.78-.78 2.05 0 2.83L4 21.41c.39.39.9.59 1.41.59.51 0 1.02-.2 1.41-.59l7.78-7.78 2.81-2.81c.8-.78.8-2.07 0-2.86zM5.41 20L4 18.59l7.72-7.72 1.47 1.35L5.41 20z\"/>\n",
              "  </svg>\n",
              "      </button>\n",
              "      \n",
              "  <style>\n",
              "    .colab-df-container {\n",
              "      display:flex;\n",
              "      flex-wrap:wrap;\n",
              "      gap: 12px;\n",
              "    }\n",
              "\n",
              "    .colab-df-convert {\n",
              "      background-color: #E8F0FE;\n",
              "      border: none;\n",
              "      border-radius: 50%;\n",
              "      cursor: pointer;\n",
              "      display: none;\n",
              "      fill: #1967D2;\n",
              "      height: 32px;\n",
              "      padding: 0 0 0 0;\n",
              "      width: 32px;\n",
              "    }\n",
              "\n",
              "    .colab-df-convert:hover {\n",
              "      background-color: #E2EBFA;\n",
              "      box-shadow: 0px 1px 2px rgba(60, 64, 67, 0.3), 0px 1px 3px 1px rgba(60, 64, 67, 0.15);\n",
              "      fill: #174EA6;\n",
              "    }\n",
              "\n",
              "    [theme=dark] .colab-df-convert {\n",
              "      background-color: #3B4455;\n",
              "      fill: #D2E3FC;\n",
              "    }\n",
              "\n",
              "    [theme=dark] .colab-df-convert:hover {\n",
              "      background-color: #434B5C;\n",
              "      box-shadow: 0px 1px 3px 1px rgba(0, 0, 0, 0.15);\n",
              "      filter: drop-shadow(0px 1px 2px rgba(0, 0, 0, 0.3));\n",
              "      fill: #FFFFFF;\n",
              "    }\n",
              "  </style>\n",
              "\n",
              "      <script>\n",
              "        const buttonEl =\n",
              "          document.querySelector('#df-d0f20430-6f35-4445-8831-d2cda936ad12 button.colab-df-convert');\n",
              "        buttonEl.style.display =\n",
              "          google.colab.kernel.accessAllowed ? 'block' : 'none';\n",
              "\n",
              "        async function convertToInteractive(key) {\n",
              "          const element = document.querySelector('#df-d0f20430-6f35-4445-8831-d2cda936ad12');\n",
              "          const dataTable =\n",
              "            await google.colab.kernel.invokeFunction('convertToInteractive',\n",
              "                                                     [key], {});\n",
              "          if (!dataTable) return;\n",
              "\n",
              "          const docLinkHtml = 'Like what you see? Visit the ' +\n",
              "            '<a target=\"_blank\" href=https://colab.research.google.com/notebooks/data_table.ipynb>data table notebook</a>'\n",
              "            + ' to learn more about interactive tables.';\n",
              "          element.innerHTML = '';\n",
              "          dataTable['output_type'] = 'display_data';\n",
              "          await google.colab.output.renderOutput(dataTable, element);\n",
              "          const docLink = document.createElement('div');\n",
              "          docLink.innerHTML = docLinkHtml;\n",
              "          element.appendChild(docLink);\n",
              "        }\n",
              "      </script>\n",
              "    </div>\n",
              "  </div>\n",
              "  "
            ]
          },
          "metadata": {},
          "execution_count": 15
        }
      ]
    },
    {
      "cell_type": "code",
      "metadata": {
        "id": "pPcHI2ysFdOW",
        "colab": {
          "base_uri": "https://localhost:8080/",
          "height": 432
        },
        "outputId": "2b911132-50a5-4b80-a51b-ea4763f2e5c6"
      },
      "source": [
        "# clean data\n",
        "data['Text'], data['Summary'] = processor.clean_data(data)\n",
        "print('Dataset Cleaned.')\n",
        "\n",
        "# remove long stories that are longer than 80 and summaries longer than 10\n",
        "data['Text'], data['Summary'] = processor.remove_long_sequences(data)\n",
        "print('Long Stories Removed.')\n",
        "\n",
        "# remove duplicates and na\n",
        "data = processor.drop_dulp_and_na(data, ['Text', 'Summary'])\n",
        "print(\"Duplicates and NaN dropped.\")\n",
        "    \n",
        "# start and end tokens\n",
        "data['Summary'] = processor.start_end_token(data['Summary'])\n",
        "print(\"Start and End Tokens added.\")\n",
        "data.head(10)"
      ],
      "execution_count": 16,
      "outputs": [
        {
          "output_type": "stream",
          "name": "stdout",
          "text": [
            "Dataset Cleaned.\n",
            "Long Stories Removed.\n",
            "Duplicates and NaN dropped.\n",
            "Start and End Tokens added.\n"
          ]
        },
        {
          "output_type": "execute_result",
          "data": {
            "text/plain": [
              "                                             Summary  \\\n",
              "0                sostok good quality dog food eostok   \n",
              "1                    sostok not as advertised eostok   \n",
              "2                  sostok delight says it all eostok   \n",
              "3                       sostok cough medicine eostok   \n",
              "4                          sostok great taffy eostok   \n",
              "5                           sostok nice taffy eostok   \n",
              "6  sostok great just as good as the expensive bra...   \n",
              "7                sostok wonderful tasty taffy eostok   \n",
              "8                           sostok yay barley eostok   \n",
              "9                     sostok healthy dog food eostok   \n",
              "\n",
              "                                                Text  \n",
              "0  bought several vitality canned dog food produc...  \n",
              "1  product arrived labeled jumbo salted peanuts p...  \n",
              "2  confection around centuries light pillowy citr...  \n",
              "3  looking secret ingredient robitussin believe f...  \n",
              "4  great taffy great price wide assortment yummy ...  \n",
              "5  got wild hair taffy ordered five pound bag taf...  \n",
              "6  saltwater taffy great flavors soft chewy candy...  \n",
              "7  taffy good soft chewy flavors amazing would de...  \n",
              "8  right mostly sprouting cats eat grass love rot...  \n",
              "9  healthy dog food good digestion also good smal...  "
            ],
            "text/html": [
              "\n",
              "  <div id=\"df-1b148c07-2aaf-408a-929c-17a393d64c89\">\n",
              "    <div class=\"colab-df-container\">\n",
              "      <div>\n",
              "<style scoped>\n",
              "    .dataframe tbody tr th:only-of-type {\n",
              "        vertical-align: middle;\n",
              "    }\n",
              "\n",
              "    .dataframe tbody tr th {\n",
              "        vertical-align: top;\n",
              "    }\n",
              "\n",
              "    .dataframe thead th {\n",
              "        text-align: right;\n",
              "    }\n",
              "</style>\n",
              "<table border=\"1\" class=\"dataframe\">\n",
              "  <thead>\n",
              "    <tr style=\"text-align: right;\">\n",
              "      <th></th>\n",
              "      <th>Summary</th>\n",
              "      <th>Text</th>\n",
              "    </tr>\n",
              "  </thead>\n",
              "  <tbody>\n",
              "    <tr>\n",
              "      <th>0</th>\n",
              "      <td>sostok good quality dog food eostok</td>\n",
              "      <td>bought several vitality canned dog food produc...</td>\n",
              "    </tr>\n",
              "    <tr>\n",
              "      <th>1</th>\n",
              "      <td>sostok not as advertised eostok</td>\n",
              "      <td>product arrived labeled jumbo salted peanuts p...</td>\n",
              "    </tr>\n",
              "    <tr>\n",
              "      <th>2</th>\n",
              "      <td>sostok delight says it all eostok</td>\n",
              "      <td>confection around centuries light pillowy citr...</td>\n",
              "    </tr>\n",
              "    <tr>\n",
              "      <th>3</th>\n",
              "      <td>sostok cough medicine eostok</td>\n",
              "      <td>looking secret ingredient robitussin believe f...</td>\n",
              "    </tr>\n",
              "    <tr>\n",
              "      <th>4</th>\n",
              "      <td>sostok great taffy eostok</td>\n",
              "      <td>great taffy great price wide assortment yummy ...</td>\n",
              "    </tr>\n",
              "    <tr>\n",
              "      <th>5</th>\n",
              "      <td>sostok nice taffy eostok</td>\n",
              "      <td>got wild hair taffy ordered five pound bag taf...</td>\n",
              "    </tr>\n",
              "    <tr>\n",
              "      <th>6</th>\n",
              "      <td>sostok great just as good as the expensive bra...</td>\n",
              "      <td>saltwater taffy great flavors soft chewy candy...</td>\n",
              "    </tr>\n",
              "    <tr>\n",
              "      <th>7</th>\n",
              "      <td>sostok wonderful tasty taffy eostok</td>\n",
              "      <td>taffy good soft chewy flavors amazing would de...</td>\n",
              "    </tr>\n",
              "    <tr>\n",
              "      <th>8</th>\n",
              "      <td>sostok yay barley eostok</td>\n",
              "      <td>right mostly sprouting cats eat grass love rot...</td>\n",
              "    </tr>\n",
              "    <tr>\n",
              "      <th>9</th>\n",
              "      <td>sostok healthy dog food eostok</td>\n",
              "      <td>healthy dog food good digestion also good smal...</td>\n",
              "    </tr>\n",
              "  </tbody>\n",
              "</table>\n",
              "</div>\n",
              "      <button class=\"colab-df-convert\" onclick=\"convertToInteractive('df-1b148c07-2aaf-408a-929c-17a393d64c89')\"\n",
              "              title=\"Convert this dataframe to an interactive table.\"\n",
              "              style=\"display:none;\">\n",
              "        \n",
              "  <svg xmlns=\"http://www.w3.org/2000/svg\" height=\"24px\"viewBox=\"0 0 24 24\"\n",
              "       width=\"24px\">\n",
              "    <path d=\"M0 0h24v24H0V0z\" fill=\"none\"/>\n",
              "    <path d=\"M18.56 5.44l.94 2.06.94-2.06 2.06-.94-2.06-.94-.94-2.06-.94 2.06-2.06.94zm-11 1L8.5 8.5l.94-2.06 2.06-.94-2.06-.94L8.5 2.5l-.94 2.06-2.06.94zm10 10l.94 2.06.94-2.06 2.06-.94-2.06-.94-.94-2.06-.94 2.06-2.06.94z\"/><path d=\"M17.41 7.96l-1.37-1.37c-.4-.4-.92-.59-1.43-.59-.52 0-1.04.2-1.43.59L10.3 9.45l-7.72 7.72c-.78.78-.78 2.05 0 2.83L4 21.41c.39.39.9.59 1.41.59.51 0 1.02-.2 1.41-.59l7.78-7.78 2.81-2.81c.8-.78.8-2.07 0-2.86zM5.41 20L4 18.59l7.72-7.72 1.47 1.35L5.41 20z\"/>\n",
              "  </svg>\n",
              "      </button>\n",
              "      \n",
              "  <style>\n",
              "    .colab-df-container {\n",
              "      display:flex;\n",
              "      flex-wrap:wrap;\n",
              "      gap: 12px;\n",
              "    }\n",
              "\n",
              "    .colab-df-convert {\n",
              "      background-color: #E8F0FE;\n",
              "      border: none;\n",
              "      border-radius: 50%;\n",
              "      cursor: pointer;\n",
              "      display: none;\n",
              "      fill: #1967D2;\n",
              "      height: 32px;\n",
              "      padding: 0 0 0 0;\n",
              "      width: 32px;\n",
              "    }\n",
              "\n",
              "    .colab-df-convert:hover {\n",
              "      background-color: #E2EBFA;\n",
              "      box-shadow: 0px 1px 2px rgba(60, 64, 67, 0.3), 0px 1px 3px 1px rgba(60, 64, 67, 0.15);\n",
              "      fill: #174EA6;\n",
              "    }\n",
              "\n",
              "    [theme=dark] .colab-df-convert {\n",
              "      background-color: #3B4455;\n",
              "      fill: #D2E3FC;\n",
              "    }\n",
              "\n",
              "    [theme=dark] .colab-df-convert:hover {\n",
              "      background-color: #434B5C;\n",
              "      box-shadow: 0px 1px 3px 1px rgba(0, 0, 0, 0.15);\n",
              "      filter: drop-shadow(0px 1px 2px rgba(0, 0, 0, 0.3));\n",
              "      fill: #FFFFFF;\n",
              "    }\n",
              "  </style>\n",
              "\n",
              "      <script>\n",
              "        const buttonEl =\n",
              "          document.querySelector('#df-1b148c07-2aaf-408a-929c-17a393d64c89 button.colab-df-convert');\n",
              "        buttonEl.style.display =\n",
              "          google.colab.kernel.accessAllowed ? 'block' : 'none';\n",
              "\n",
              "        async function convertToInteractive(key) {\n",
              "          const element = document.querySelector('#df-1b148c07-2aaf-408a-929c-17a393d64c89');\n",
              "          const dataTable =\n",
              "            await google.colab.kernel.invokeFunction('convertToInteractive',\n",
              "                                                     [key], {});\n",
              "          if (!dataTable) return;\n",
              "\n",
              "          const docLinkHtml = 'Like what you see? Visit the ' +\n",
              "            '<a target=\"_blank\" href=https://colab.research.google.com/notebooks/data_table.ipynb>data table notebook</a>'\n",
              "            + ' to learn more about interactive tables.';\n",
              "          element.innerHTML = '';\n",
              "          dataTable['output_type'] = 'display_data';\n",
              "          await google.colab.output.renderOutput(dataTable, element);\n",
              "          const docLink = document.createElement('div');\n",
              "          docLink.innerHTML = docLinkHtml;\n",
              "          element.appendChild(docLink);\n",
              "        }\n",
              "      </script>\n",
              "    </div>\n",
              "  </div>\n",
              "  "
            ]
          },
          "metadata": {},
          "execution_count": 16
        }
      ]
    },
    {
      "cell_type": "code",
      "metadata": {
        "id": "lWRh7NLuGY69",
        "colab": {
          "base_uri": "https://localhost:8080/",
          "height": 281
        },
        "outputId": "47f11a4f-7be3-4837-9f24-69be2f300b26"
      },
      "source": [
        "import matplotlib.pyplot as plt\n",
        "import pandas as pd\n",
        "text_word_count = []\n",
        "summary_word_count = []\n",
        "\n",
        "# populate the lists with sentence lengths\n",
        "for i in data['Text']:\n",
        "      text_word_count.append(len(i.split()))\n",
        "\n",
        "for i in data['Summary']:\n",
        "      summary_word_count.append(len(i.split()))\n",
        "\n",
        "length_df = pd.DataFrame({'text':text_word_count, 'summary':summary_word_count})\n",
        "length_df.hist(bins = 30)\n",
        "plt.show()"
      ],
      "execution_count": 17,
      "outputs": [
        {
          "output_type": "display_data",
          "data": {
            "text/plain": [
              "<Figure size 432x288 with 2 Axes>"
            ],
            "image/png": "[encoded data removed]"
          },
          "metadata": {
            "needs_background": "light"
          }
        }
      ]
    },
    {
      "cell_type": "markdown",
      "metadata": {
        "id": "MPyp4LnyG6xM"
      },
      "source": [
        "This shows that the ideal summary lenghts are 10 and text lenght are 10. Thus these shoud be kept as max lenght of text and summaries."
      ]
    },
    {
      "cell_type": "markdown",
      "metadata": {
        "id": "bTse5Fp8Hm_e"
      },
      "source": [
        "Now the textual data has to be coverted into integer seqs. For that we will use keras tokenizer class. For detail implementation see Datapreprosseing.py file.\n",
        "\n",
        "The tokenized data will be saved in forms of dictionaries and will come in use later."
      ]
    },
    {
      "cell_type": "code",
      "metadata": {
        "id": "IITJZgZkHUh6",
        "colab": {
          "base_uri": "https://localhost:8080/"
        },
        "outputId": "424dbaaf-7961-44a4-aed1-12e772431539"
      },
      "source": [
        "#Tokenizer\n",
        "total_word, rare_word = processor.rare_words_count(data['Text'])\n",
        "x_seq, x_tokenizer = processor.text2seq(data['Text'], total_word, rare_word)\n",
        "x_seq = processor.pad_seq(x_seq, processor.max_length_text)\n",
        "\n",
        "total_word, rare_word = processor.rare_words_count(data['Summary'])\n",
        "y_seq, y_tokenizer = processor.text2seq(data['Summary'], total_word, rare_word)\n",
        "y_seq = processor.pad_seq(y_seq, processor.max_length_summary)\n",
        "print(\"Tokenization Completed.\")\n",
        "\n",
        "# Tokenizer Data\n",
        "x_vocab_size, y_vocab_size, input_word_index, target_word_index, reversed_input_word_index, reversed_target_word_index = processor.required_dicts(x_tokenizer,y_tokenizer)\n",
        "print(\"Tokenizer Data Loaded.\")\n"
      ],
      "execution_count": 18,
      "outputs": [
        {
          "output_type": "stream",
          "name": "stdout",
          "text": [
            "Tokenization Completed.\n",
            "Tokenizer Data Loaded.\n"
          ]
        }
      ]
    },
    {
      "cell_type": "code",
      "metadata": {
        "id": "P4rpOTQNIe9e",
        "colab": {
          "base_uri": "https://localhost:8080/"
        },
        "outputId": "778266c7-11ac-4522-aa08-7d5e6d1d148e"
      },
      "source": [
        "# split data\n",
        "x_tr, x_test, x_dev, y_tr, y_test, y_dev = processor.split_data(x_seq, y_seq, train_ratio=0.75, dev_ratio=0.125)\n",
        "print(\"Data Splitted.\")"
      ],
      "execution_count": 19,
      "outputs": [
        {
          "output_type": "stream",
          "name": "stdout",
          "text": [
            "Data Splitted.\n"
          ]
        }
      ]
    },
    {
      "cell_type": "code",
      "metadata": {
        "id": "V1oY2WIsosdt",
        "colab": {
          "base_uri": "https://localhost:8080/"
        },
        "outputId": "e60cc6de-b86d-4ceb-bd5b-282c6cf36b9f"
      },
      "source": [
        "processor.pickle_data([x_tokenizer, y_tokenizer, x_vocab_size, y_vocab_size, input_word_index, target_word_index, \n",
        "reversed_input_word_index, reversed_target_word_index,\n",
        "processor.max_length_text, processor.max_length_summary], 'TokenizerData')\n",
        "print(\"Tokenizer Data Pickled.\")"
      ],
      "execution_count": 20,
      "outputs": [
        {
          "output_type": "stream",
          "name": "stdout",
          "text": [
            "Tokenizer Data Pickled.\n"
          ]
        }
      ]
    },
    {
      "cell_type": "markdown",
      "metadata": {
        "id": "JdDKEiCRLwyZ"
      },
      "source": [
        "# **Model Building**\n",
        "Now we will build a Seq to Seq model for our summarizer. It will be based upon lstm encoders and decoders. For more details see summarizer.py file."
      ]
    },
    {
      "cell_type": "code",
      "metadata": {
        "id": "v1SzQTHnIrn2",
        "colab": {
          "base_uri": "https://localhost:8080/",
          "height": 252
        },
        "outputId": "8d29c630-2db4-41cf-92d5-296c61e398d2"
      },
      "source": [
        "# \"\"\"Model Building\"\"\" \n",
        "summarizer = Summarizer(input_word_index,target_word_index,x_vocab_size,y_vocab_size)\n",
        "\n",
        "# Read in glove embeddinsg\n",
        "#embeddings_index = summarizer.read_glove_embeddings()\n",
        "print(\"Embedding Vectors Loaded.\")\n",
        "\n",
        "# embedding matrix\n",
        "embedding_matrix_input, embedding_matrix_target = summarizer.embedding_matrix(embeddings_index)\n",
        "print(\"Embedding Matrix Created.\")\n",
        "\n",
        "# Define model\n",
        "#trainer_model, encoder_model, decoder_model = summarizer.define_models(embedding_matrix_input,embedding_matrix_target,processor.max_length_text, processor.max_length_summary)\n",
        "trainer_model, encoder_model, decoder_model = summarizer.define_models(processor.max_length_text, processor.max_length_summary)\n",
        "\n",
        "print(\"Model Defined.\")\n",
        "\n",
        "# Compile model\n",
        "summarizer.compile_model(trainer_model)\n",
        "print(\"Model Compiled.\")"
      ],
      "execution_count": 31,
      "outputs": [
        {
          "output_type": "stream",
          "name": "stdout",
          "text": [
            "Embedding Vectors Loaded.\n"
          ]
        },
        {
          "output_type": "error",
          "ename": "NameError",
          "evalue": "ignored",
          "traceback": [
            "\u001b[0;31m---------------------------------------------------------------------------\u001b[0m",
            "\u001b[0;31mNameError\u001b[0m                                 Traceback (most recent call last)",
            "\u001b[0;32m<ipython-input-31-de4a8448cee5>\u001b[0m in \u001b[0;36m<module>\u001b[0;34m()\u001b[0m\n\u001b[1;32m      7\u001b[0m \u001b[0;34m\u001b[0m\u001b[0m\n\u001b[1;32m      8\u001b[0m \u001b[0;31m# embedding matrix\u001b[0m\u001b[0;34m\u001b[0m\u001b[0;34m\u001b[0m\u001b[0;34m\u001b[0m\u001b[0m\n\u001b[0;32m----> 9\u001b[0;31m \u001b[0membedding_matrix_input\u001b[0m\u001b[0;34m,\u001b[0m \u001b[0membedding_matrix_target\u001b[0m \u001b[0;34m=\u001b[0m \u001b[0msummarizer\u001b[0m\u001b[0;34m.\u001b[0m\u001b[0membedding_matrix\u001b[0m\u001b[0;34m(\u001b[0m\u001b[0membeddings_index\u001b[0m\u001b[0;34m)\u001b[0m\u001b[0;34m\u001b[0m\u001b[0;34m\u001b[0m\u001b[0m\n\u001b[0m\u001b[1;32m     10\u001b[0m \u001b[0mprint\u001b[0m\u001b[0;34m(\u001b[0m\u001b[0;34m\"Embedding Matrix Created.\"\u001b[0m\u001b[0;34m)\u001b[0m\u001b[0;34m\u001b[0m\u001b[0;34m\u001b[0m\u001b[0m\n\u001b[1;32m     11\u001b[0m \u001b[0;34m\u001b[0m\u001b[0m\n",
            "\u001b[0;31mNameError\u001b[0m: name 'embeddings_index' is not defined"
          ]
        }
      ]
    },
    {
      "cell_type": "code",
      "metadata": {
        "id": "NFqCBqZUI-95",
        "colab": {
          "base_uri": "https://localhost:8080/",
          "height": 200
        },
        "outputId": "f8df57a0-64b6-4ad8-d517-3165e26b5503"
      },
      "source": [
        "# Train model\n",
        "history = summarizer.train_model(trainer_model, x_tr, x_dev, y_tr, y_dev,epochs=30,batch_size=64)\n",
        "print(\"Model Trained.\")"
      ],
      "execution_count": 27,
      "outputs": [
        {
          "output_type": "error",
          "ename": "NameError",
          "evalue": "ignored",
          "traceback": [
            "\u001b[0;31m---------------------------------------------------------------------------\u001b[0m",
            "\u001b[0;31mNameError\u001b[0m                                 Traceback (most recent call last)",
            "\u001b[0;32m<ipython-input-27-24a9f8e79ff6>\u001b[0m in \u001b[0;36m<module>\u001b[0;34m()\u001b[0m\n\u001b[1;32m      1\u001b[0m \u001b[0;31m# Train model\u001b[0m\u001b[0;34m\u001b[0m\u001b[0;34m\u001b[0m\u001b[0;34m\u001b[0m\u001b[0m\n\u001b[0;32m----> 2\u001b[0;31m \u001b[0mhistory\u001b[0m \u001b[0;34m=\u001b[0m \u001b[0msummarizer\u001b[0m\u001b[0;34m.\u001b[0m\u001b[0mtrain_model\u001b[0m\u001b[0;34m(\u001b[0m\u001b[0mtrainer_model\u001b[0m\u001b[0;34m,\u001b[0m \u001b[0mx_tr\u001b[0m\u001b[0;34m,\u001b[0m \u001b[0mx_dev\u001b[0m\u001b[0;34m,\u001b[0m \u001b[0my_tr\u001b[0m\u001b[0;34m,\u001b[0m \u001b[0my_dev\u001b[0m\u001b[0;34m,\u001b[0m\u001b[0mepochs\u001b[0m\u001b[0;34m=\u001b[0m\u001b[0;36m30\u001b[0m\u001b[0;34m,\u001b[0m\u001b[0mbatch_size\u001b[0m\u001b[0;34m=\u001b[0m\u001b[0;36m64\u001b[0m\u001b[0;34m)\u001b[0m\u001b[0;34m\u001b[0m\u001b[0;34m\u001b[0m\u001b[0m\n\u001b[0m\u001b[1;32m      3\u001b[0m \u001b[0mprint\u001b[0m\u001b[0;34m(\u001b[0m\u001b[0;34m\"Model Trained.\"\u001b[0m\u001b[0;34m)\u001b[0m\u001b[0;34m\u001b[0m\u001b[0;34m\u001b[0m\u001b[0m\n",
            "\u001b[0;31mNameError\u001b[0m: name 'trainer_model' is not defined"
          ]
        }
      ]
    },
    {
      "cell_type": "code",
      "metadata": {
        "id": "WHUo0aJ8J7qb",
        "colab": {
          "base_uri": "https://localhost:8080/",
          "height": 282
        },
        "outputId": "df5721ce-3f03-49c3-a0ad-021033143b4b"
      },
      "source": [
        "# Disgnostic plot\n",
        "print(\"Diagnostic Plot: \")\n",
        "summarizer.diagnostic_plot(history)"
      ],
      "execution_count": null,
      "outputs": [
        {
          "output_type": "stream",
          "text": [
            "Diagnostic Plot: \n"
          ],
          "name": "stdout"
        },
        {
          "output_type": "display_data",
          "data": {
            "image/png": "[encoded data removed]",
            "text/plain": [
              "<Figure size 432x288 with 1 Axes>"
            ]
          },
          "metadata": {
            "tags": [],
            "needs_background": "light"
          }
        }
      ]
    },
    {
      "cell_type": "code",
      "metadata": {
        "id": "Yx3_krMTVots",
        "colab": {
          "base_uri": "https://localhost:8080/",
          "height": 34
        },
        "outputId": "9346b664-59d2-4f3e-f29e-37aff2883ce3"
      },
      "source": [
        "# Save model\n",
        "summarizer.save_model(encoder_model, decoder_model)\n",
        "print(\"Model Saved.\")"
      ],
      "execution_count": null,
      "outputs": [
        {
          "output_type": "stream",
          "text": [
            "Model Saved.\n"
          ],
          "name": "stdout"
        }
      ]
    },
    {
      "cell_type": "markdown",
      "metadata": {
        "id": "A6DFXQoTVx8l"
      },
      "source": [
        "# Predictions"
      ]
    },
    {
      "cell_type": "code",
      "metadata": {
        "id": "7mQoFZiS5Kfu",
        "colab": {
          "base_uri": "https://localhost:8080/",
          "height": 1000
        },
        "outputId": "265c7f8c-4b24-47a8-f3ec-563f6e665c2d"
      },
      "source": [
        "\"\"\"Predictions\"\"\"\n",
        "from Prediction import Prediction\n",
        "loaded_data = processor.load_pickle('TokenizerData')\n",
        "predictor = Prediction(loaded_data)\n",
        "\n",
        "# Load trained model\n",
        "encoder_model = predictor.load_model('encoder_model.json', 'encoder_model_weights.h5')\n",
        "decoder_model = predictor.load_model('decoder_model.json', 'decoder_model_weights.h5')\n",
        "print(\"Model Loaded.\")\n",
        "\n",
        "# Generate summaries\n",
        "for i in range(10,30):\n",
        "    print(\"Original Text: \",predictor.seqtotext(x_test[i]))\n",
        "    print(\"Original: \",predictor.seqtosummary(y_test[i]))\n",
        "    print(\"Predicted: \" ,predictor.decode_sequence(x_test[i].reshape(1,80), encoder_model, decoder_model))\n",
        "    print(\"\\n\")"
      ],
      "execution_count": null,
      "outputs": [
        {
          "output_type": "stream",
          "text": [
            "WARNING:tensorflow:Layer lstm will not use cuDNN kernel since it doesn't meet the cuDNN kernel criteria. It will use generic GPU kernel as fallback when running on GPU\n",
            "WARNING:tensorflow:Layer lstm will not use cuDNN kernel since it doesn't meet the cuDNN kernel criteria. It will use generic GPU kernel as fallback when running on GPU\n",
            "WARNING:tensorflow:Layer lstm will not use cuDNN kernel since it doesn't meet the cuDNN kernel criteria. It will use generic GPU kernel as fallback when running on GPU\n",
            "WARNING:tensorflow:Layer lstm_1 will not use cuDNN kernel since it doesn't meet the cuDNN kernel criteria. It will use generic GPU kernel as fallback when running on GPU\n",
            "Model Loaded.\n",
            "Original Text:  plants looked dead small watered directed still look weeks follow directions every time water \n",
            "Original:  air plants \n",
            "Predicted:  pitcher plant \n",
            "\n",
            "\n",
            "Original Text:  feel lucked treat health properties sweetened honey adds rich soothing flavor good hot cold others noted gentle upset stomach indigestion good home remedy \n",
            "Original:  good home remedy \n",
            "Predicted:  great for cramps \n",
            "\n",
            "\n",
            "Original Text:  regret buying gift basket picture shows price bought chocolate set rather \n",
            "Original:  gift basket sucks \n",
            "Predicted:  great deal for chocolate \n",
            "\n",
            "\n",
            "Original Text:  tastes good guy doesnt cook often bored type food everytime oil floating noticed cooking particular diet may avoid \n",
            "Original:  it tastes good as it is supposed to \n",
            "Predicted:  tastes like fish \n",
            "\n",
            "\n",
            "Original Text:  tour operator always looking high quality reasonably priced snacks offer customers trips snyder brand appreciate able purchase bulk quantities pretzels great low price \n",
            "Original:  snyder of hanover pretzels \n",
            "Predicted:  great deal for great price \n",
            "\n",
            "\n",
            "Original Text:  ive tasty nuts good try im happy product \n",
            "Original:  boy these are some tasty nuts \n",
            "Predicted:  nuts nuts \n",
            "\n",
            "\n",
            "Original Text:  got kuerig brewer husband bought starbucks coffee pretty strong coffee favorite tried quite cups like bold coffee like one enjoy \n",
            "Original:  nice bold coffee \n",
            "Predicted:  great coffee for keurig \n",
            "\n",
            "\n",
            "Original Text:  made purchase suggestion others bit hesitant heard stevia liquid otherwise pleasantly pleased little use sweetness flavoring used coffee tea fruits plain water amazing \n",
            "Original:  liquid stevia flavors \n",
            "Predicted:  great taste and aroma \n",
            "\n",
            "\n",
            "Original Text:  gold kili natural instant ginger lemon beverage mix offers different spark huge world beverages love try anything different ordinary mixture ginger lemon provides different spark taste buds proves satisfying ginger spice enhances tangy flavor cuisine mention natural properties relieve upset stomach soothing drink feeling well overall satisfying beverage highly recommend \n",
            "Original:  different but satisfying \n",
            "Predicted:  soothing and soothing \n",
            "\n",
            "\n",
            "Original Text:  dog loves things beats heck trying brush teeth price way better vet charging delivered free door \n",
            "Original:  rawhide chews \n",
            "Predicted:  my dog loves them \n",
            "\n",
            "\n",
            "Original Text:  using product amore sun dried tomato paste instead regular tomato paste italian recipes makes great rub chicken roast oven \n",
            "Original:  cooks will love this product \n",
            "Predicted:  great product for canned \n",
            "\n",
            "\n",
            "Original Text:  super straight baby fine hair life mess much trying give volume give distress shows becoming yet fine breaking interested see shampoo could help really give hair little extra bounce huge amount discernable difference nice fragrance hair feels really clean without residue gripe bottle smaller bottom top shaped oddly fine little pocket holder shower get use easy get unbalanced fall big deal overall plan try conditioner \n",
            "Original:  really does add little volume \n",
            "Predicted:  great for hair \n",
            "\n",
            "\n",
            "Original Text:  say like putting straw coconut telling truth clean clear crisp taste travel michigan caribbean one sip sit back enjoy \n",
            "Original:  the best coconut water sold here \n",
            "Predicted:  coconut coconut \n",
            "\n",
            "\n",
            "Original Text:  nutritional value ezekiel formula miraculous combination loaded fiber protein almost fat unfortunately pasta difficult cook wanted much make new super food dinner time little success making work flavor comparable nutty cardboard vaguely resembling pasta tried cooking inedible dare cook ezekiel porridge sorry guys really honest \n",
            "Original:  is the \n",
            "Predicted:  tastes like real but not so good \n",
            "\n",
            "\n",
            "Original Text:  package cuts center bag bag also purchase dog food local stores bags never look bad condition one kibble come cuts spilled amazon packaging box pleased knows sanitary food anymore bag broken love wellness brand dog food seller wellness small breed toy poodle told underweight even free feed eukanuba know health weight due good taste small kibble size disc surgery soaked food ate big picky eater post surgery discomfort \n",
            "Original:  low low for seller love wellness brand \n",
            "Predicted:  great food for my dog \n",
            "\n",
            "\n",
            "Original Text:  yes use product salting foods also another handy use grains salt much larger normal use salt clean cast iron grill skillet pour one two tablespoons salt slightly warm grill skillet rub salt bottom sides pans paper towel salt even quickly makes short work cleaning ridged bottom cast iron grill pan works perfectly usually keep two three packages product spices shelf use frequently salting food cleaning cast iron \n",
            "Original:  for more than foods \n",
            "Predicted:  great for cooking \n",
            "\n",
            "\n",
            "Original Text:  plastic packaging airtight might want stick cans preserve freshness \n",
            "Original:  not quite fresh but okay cashews \n",
            "Predicted:  plastic bottles \n",
            "\n",
            "\n",
            "Original Text:  traditional coffee espresso cappuccino business years hesitant try keurig period succumb progress bought tried different types good ok one folks winner without doubt best cup coffee ever machines europe french press ect ect acidity body flavor profiles perfect save time money green mountain newman got one right hope change buy count get best value wont get sick good \n",
            "Original:  have tried them all \n",
            "Predicted:  the best coffee ve ever had \n",
            "\n",
            "\n",
            "Original Text:  one difficult reviews yes coffee person like think know coffee brew french press every day said high quality brew definitely one overly sugary starbucks blended drinks thing something special folks going go put cash like iced coffee actually fairly potent made teenager like iced coffee money important brew home etc \n",
            "Original:  good stuff but worth the bother price \n",
            "Predicted:  not bad but not really good \n",
            "\n",
            "\n",
            "Original Text:  florida constantly aware humidity like packages one thing portion control another manufacturer sealed leave get next time run store buy cereal next day means leave summer humidity affect would preferred purchased smaller amount boxes likely wind donating local soup kitchen originally got hotel used found convenient expensive purchasing large box cereal opened leave box cereal leave \n",
            "Original:  good portion control manufacturer sealed \n",
            "Predicted:  great for those \n",
            "\n",
            "\n"
          ],
          "name": "stdout"
        }
      ]
    },
    {
      "cell_type": "markdown",
      "metadata": {
        "id": "9p7FPjcC_Noz"
      },
      "source": [
        "# Conclusion\n",
        "The model is producing mixed summaries. Some are very good, some are bad. This was a basic model and was trained for only 10 epochs. It can be futher imporved by adding more lstm layers in model and also by taining it more than 10 epochs.\n",
        "\n"
      ]
    }
  ]
}